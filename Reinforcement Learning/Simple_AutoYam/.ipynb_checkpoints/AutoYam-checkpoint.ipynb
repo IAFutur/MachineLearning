{
 "cells": [
  {
   "cell_type": "code",
   "execution_count": 227,
   "metadata": {},
   "outputs": [],
   "source": [
    "import numpy as np \n",
    "import random\n",
    "from itertools import groupby\n",
    "import tensorflow.keras as keras"
   ]
  },
  {
   "cell_type": "markdown",
   "metadata": {},
   "source": [
    "### Construction de l'environnement \n",
    "\n",
    "L'état est un vecteur colonne de 12 valeurs correspondant aux 12 cases du jeu de Yam. Les valeurs sont initialisées à 0 puis progressivement remplies avec les valeurs du jeu. "
   ]
  },
  {
   "cell_type": "code",
   "execution_count": 81,
   "metadata": {},
   "outputs": [
    {
     "data": {
      "text/plain": [
       "array([0, 0, 0, 0, 0, 0, 0, 0, 0, 0, 0, 0])"
      ]
     },
     "execution_count": 81,
     "metadata": {},
     "output_type": "execute_result"
    }
   ],
   "source": [
    "state = np.zeros(12, dtype=int)\n",
    "state"
   ]
  },
  {
   "cell_type": "code",
   "execution_count": 6,
   "metadata": {},
   "outputs": [],
   "source": [
    "def roll_dice():\n",
    "    min=1\n",
    "    max=6\n",
    "    return random.randint(min,max)"
   ]
  },
  {
   "cell_type": "code",
   "execution_count": 77,
   "metadata": {},
   "outputs": [
    {
     "data": {
      "text/plain": [
       "[1, 3, 4, 5, 1]"
      ]
     },
     "execution_count": 77,
     "metadata": {},
     "output_type": "execute_result"
    }
   ],
   "source": [
    "throw = [roll_dice() for _ in range(5)]\n",
    "throw"
   ]
  },
  {
   "cell_type": "code",
   "execution_count": 99,
   "metadata": {},
   "outputs": [],
   "source": [
    "def hist(throw):\n",
    "    count=np.zeros(6, dtype=int)\n",
    "    \n",
    "    for i in throw:\n",
    "        count[i-1]+=1\n",
    "    return count"
   ]
  },
  {
   "cell_type": "code",
   "execution_count": 175,
   "metadata": {},
   "outputs": [],
   "source": [
    "def env_step(state, action, throw, n_throw):\n",
    "    # state est composé de la grille de case du jeu \n",
    "    # action est l'action entreprise par le joueur/agent\n",
    "    # throw est le jeu de dés tirés durant le tour \n",
    "    # n_throw est le nombre de tir effectué pour le tour \n",
    "    \n",
    "    reward=0\n",
    "    done=False\n",
    "    \n",
    "    # vérifier si la colonne intermédiaire est pleine\n",
    "    if (0 in state[0:5]):\n",
    "        info=0\n",
    "    else:\n",
    "        info=1\n",
    "    count=hist(throw)\n",
    "    \n",
    "    # si le joueur/agent souhaite retirer ses dés\n",
    "    # on passe l'interaction avec l'environnement\n",
    "    if action==12:\n",
    "        print(\"Veuillez retirer\")\n",
    "        True\n",
    "    # réprimer les actions interdites\n",
    "    # sur-écritures interdites\n",
    "    elif (not (state[action]==0) or (state[action]==-1)):\n",
    "        reward=-20\n",
    "        \n",
    "    else:\n",
    "        # chaque action est perfomée pour valider une case demandée \n",
    "        # que cette action soit valide (satisfasse la condition)\n",
    "        # ou invalide (on barre alors la case et lui donne la valeur -1)\n",
    "        \n",
    "        if action in range(6):\n",
    "            if not count[action]==0:\n",
    "                reward=state[action]=count[action]*(action+1)\n",
    "            else:\n",
    "                state[action]=-1\n",
    "                reward=-10        \n",
    "        elif action==6:\n",
    "            if (3 in count):\n",
    "                reward=state[6]=sum(throw)\n",
    "            else:\n",
    "                reward=-10\n",
    "                state[6]=-1\n",
    "        elif action==7:\n",
    "            if [i==1 for i in count]==[1,1,1,1,1,0]:\n",
    "                reward=state[7]=15\n",
    "            else:\n",
    "                reward=-10\n",
    "                state[7]=-1\n",
    "        elif action==8:\n",
    "            if [i==1 for i in count]==[0,1,1,1,1,1]:\n",
    "                reward=state[8]=20\n",
    "            else:\n",
    "                reward=-10\n",
    "                state[8]=-1\n",
    "        elif action==9:\n",
    "            if (3 in count) and (2 in count) :\n",
    "                reward=state[9]=30\n",
    "            else:\n",
    "                reward=-10\n",
    "                state[9]=-1\n",
    "        elif action==10:\n",
    "            if (4 in count) :\n",
    "                reward=state[10]=40\n",
    "            else:\n",
    "                reward=-10\n",
    "                state[10]=-1\n",
    "        elif action==11:\n",
    "            if (5 in count) :\n",
    "                reward=state[11]=50\n",
    "            else:\n",
    "                reward=-10\n",
    "                state[11]=-1\n",
    "        else:\n",
    "            print(\"Action non répertoriée\")\n",
    "    \n",
    "    # à l'issue de ce tour on est parvenu à remplir la colonne intermédiaire\n",
    "    # la récompense est donc de 35 points supplémentaires\n",
    "    if info==0 and (0 not in state[0:5]) and (-1 not in state[0:5]):\n",
    "        reward+=35\n",
    "    \n",
    "    # si aucune des cases n'est restée vide à l'issue du tour \n",
    "    # la partie est terminée !\n",
    "    if (0 not in state):\n",
    "        done=True\n",
    "        \n",
    "    return state,reward,done"
   ]
  },
  {
   "cell_type": "code",
   "execution_count": 193,
   "metadata": {},
   "outputs": [],
   "source": [
    "def throwing(throw,n_throw, mask):\n",
    "    if n_throw==3:\n",
    "        throw = [roll_dice() for _ in range(5)]\n",
    "        n_throw=1\n",
    "    else:\n",
    "        keep=[a*b for a,b in zip(throw,mask) if a*b !=0]\n",
    "        throw= keep + [roll_dice() for _ in range(5-len(keep))]\n",
    "        n_throw+=1\n",
    "        \n",
    "    return(throw,n_throw)"
   ]
  },
  {
   "cell_type": "code",
   "execution_count": 230,
   "metadata": {},
   "outputs": [],
   "source": [
    "input_shape = [18] # == 12 cases dans la grille + 5 dés lancés + 1 n° lancé\n",
    "n_outputs = 18 # == 12 cases à cocher dans la grille + 5 dés pouvant être gardés + relancer en booléen\n",
    "\n",
    "model = keras.models.Sequential([\n",
    "    keras.layers.Dense(64, activation=\"elu\", input_shape=input_shape),\n",
    "    keras.layers.Dense(32, activation=\"elu\"),\n",
    "    keras.layers.Dense(n_outputs)\n",
    "])"
   ]
  },
  {
   "cell_type": "code",
   "execution_count": 232,
   "metadata": {},
   "outputs": [],
   "source": [
    "def epsilon_greedy_policy(state, epsilon=0):\n",
    "    if np.random.rand() < epsilon:\n",
    "        return np.random.randint(18)\n",
    "    else:\n",
    "        Q_values = model.predict(state[np.newaxis])\n",
    "        return np.argmax(Q_values[0])"
   ]
  },
  {
   "cell_type": "code",
   "execution_count": 233,
   "metadata": {},
   "outputs": [],
   "source": [
    "from collections import deque\n",
    "\n",
    "replay_memory = deque(maxlen=2000)"
   ]
  },
  {
   "cell_type": "code",
   "execution_count": 234,
   "metadata": {},
   "outputs": [],
   "source": [
    "def sample_experiences(batch_size):\n",
    "    indices = np.random.randint(len(replay_memory), size=batch_size)\n",
    "    batch = [replay_memory[index] for index in indices]\n",
    "    states, actions, rewards, next_states, dones = [\n",
    "        np.array([experience[field_index] for experience in batch])\n",
    "        for field_index in range(5)]\n",
    "    return states, actions, rewards, next_states, dones"
   ]
  },
  {
   "cell_type": "code",
   "execution_count": 235,
   "metadata": {},
   "outputs": [],
   "source": [
    "def play_one_step(env, state, epsilon):\n",
    "    action = epsilon_greedy_policy(state, epsilon)\n",
    "    next_state, reward, done = env_step(state, action, throw, n_throw)\n",
    "    replay_memory.append((state, action, reward, next_state))\n",
    "    return next_state, reward, done"
   ]
  },
  {
   "cell_type": "code",
   "execution_count": 236,
   "metadata": {},
   "outputs": [],
   "source": [
    "batch_size = 32\n",
    "discount_rate = 0.95\n",
    "optimizer = keras.optimizers.Adam(lr=1e-3)\n",
    "loss_fn = keras.losses.mean_squared_error\n",
    "\n",
    "def training_step(batch_size):\n",
    "    experiences = sample_experiences(batch_size)\n",
    "    states, actions, rewards, next_states, dones = experiences\n",
    "    next_Q_values = model.predict(next_states)\n",
    "    max_next_Q_values = np.max(next_Q_values, axis=1)\n",
    "    target_Q_values = (rewards +\n",
    "                       (1 - dones) * discount_rate * max_next_Q_values)\n",
    "    target_Q_values = target_Q_values.reshape(-1, 1)\n",
    "    mask = tf.one_hot(actions, n_outputs)\n",
    "    with tf.GradientTape() as tape:\n",
    "        all_Q_values = model(states)\n",
    "        Q_values = tf.reduce_sum(all_Q_values * mask, axis=1, keepdims=True)\n",
    "        loss = tf.reduce_mean(loss_fn(target_Q_values, Q_values))\n",
    "    grads = tape.gradient(loss, model.trainable_variables)\n",
    "    optimizer.apply_gradients(zip(grads, model.trainable_variables))"
   ]
  },
  {
   "cell_type": "code",
   "execution_count": null,
   "metadata": {},
   "outputs": [],
   "source": [
    "for episode in range(600):\n",
    "    obs = env.reset()    \n",
    "    for step in range(200):\n",
    "        epsilon = max(1 - episode / 500, 0.01)\n",
    "        obs, reward, done = play_one_step(env, obs, epsilon)\n",
    "        if done:\n",
    "            break\n",
    "    rewards.append(step) # Not shown in the book\n",
    "    if step > best_score: # Not shown\n",
    "        best_weights = model.get_weights() # Not shown\n",
    "        best_score = step # Not shown\n",
    "    print(\"\\rEpisode: {}, Steps: {}, eps: {:.3f}\".format(episode, step + 1, epsilon), end=\"\") # Not shown\n",
    "    if episode > 50:\n",
    "        training_step(batch_size)\n",
    "\n",
    "model.set_weights(best_weights)"
   ]
  }
 ],
 "metadata": {
  "kernelspec": {
   "display_name": "Python 3",
   "language": "python",
   "name": "python3"
  },
  "language_info": {
   "codemirror_mode": {
    "name": "ipython",
    "version": 3
   },
   "file_extension": ".py",
   "mimetype": "text/x-python",
   "name": "python",
   "nbconvert_exporter": "python",
   "pygments_lexer": "ipython3",
   "version": "3.6.10"
  }
 },
 "nbformat": 4,
 "nbformat_minor": 4
}
